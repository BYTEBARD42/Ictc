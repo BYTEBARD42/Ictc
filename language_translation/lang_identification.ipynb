{
 "cells": [
  {
   "cell_type": "code",
   "execution_count": null,
   "metadata": {},
   "outputs": [],
   "source": [
    "import pandas as pd\n",
    "\n",
    "import torch\n",
    "import torch.nn as nn\n",
    "from torch.utils.data import DataLoader\n",
    "from transformers import AutoModel, AdamW, AutoTokenizer\n",
    "from tqdm import tqdm"
   ]
  },
  {
   "cell_type": "code",
   "execution_count": 2,
   "metadata": {},
   "outputs": [
    {
     "data": {
      "text/plain": [
       "device(type='cuda', index=0)"
      ]
     },
     "execution_count": 2,
     "metadata": {},
     "output_type": "execute_result"
    }
   ],
   "source": [
    "device = torch.device(\"cuda:0\" if torch.cuda.is_available() else \"cpu\")\n",
    "device"
   ]
  },
  {
   "cell_type": "code",
   "execution_count": 3,
   "metadata": {},
   "outputs": [
    {
     "data": {
      "text/html": [
       "<div>\n",
       "<style scoped>\n",
       "    .dataframe tbody tr th:only-of-type {\n",
       "        vertical-align: middle;\n",
       "    }\n",
       "\n",
       "    .dataframe tbody tr th {\n",
       "        vertical-align: top;\n",
       "    }\n",
       "\n",
       "    .dataframe thead th {\n",
       "        text-align: right;\n",
       "    }\n",
       "</style>\n",
       "<table border=\"1\" class=\"dataframe\">\n",
       "  <thead>\n",
       "    <tr style=\"text-align: right;\">\n",
       "      <th></th>\n",
       "      <th>text</th>\n",
       "      <th>label</th>\n",
       "    </tr>\n",
       "  </thead>\n",
       "  <tbody>\n",
       "    <tr>\n",
       "      <th>0</th>\n",
       "      <td>hai, aduku woru seagret irukkintu.</td>\n",
       "      <td>3</td>\n",
       "    </tr>\n",
       "    <tr>\n",
       "      <th>1</th>\n",
       "      <td>amar naam hal anant. kono parichampatra prayoj...</td>\n",
       "      <td>0</td>\n",
       "    </tr>\n",
       "    <tr>\n",
       "      <th>2</th>\n",
       "      <td>anjuki, tripul jumplo maji jaatiya champian ma...</td>\n",
       "      <td>4</td>\n",
       "    </tr>\n",
       "    <tr>\n",
       "      <th>3</th>\n",
       "      <td>pildu hackey enpatu oruvit ani vilyaddu, atil ...</td>\n",
       "      <td>3</td>\n",
       "    </tr>\n",
       "    <tr>\n",
       "      <th>4</th>\n",
       "      <td>mam, shunesi ye nirdisht kono jayga naam nathi...</td>\n",
       "      <td>0</td>\n",
       "    </tr>\n",
       "  </tbody>\n",
       "</table>\n",
       "</div>"
      ],
      "text/plain": [
       "                                                text  label\n",
       "0                 hai, aduku woru seagret irukkintu.      3\n",
       "1  amar naam hal anant. kono parichampatra prayoj...      0\n",
       "2  anjuki, tripul jumplo maji jaatiya champian ma...      4\n",
       "3  pildu hackey enpatu oruvit ani vilyaddu, atil ...      3\n",
       "4  mam, shunesi ye nirdisht kono jayga naam nathi...      0"
      ]
     },
     "execution_count": 3,
     "metadata": {},
     "output_type": "execute_result"
    }
   ],
   "source": [
    "df = pd.read_csv(\"task1.csv\")\n",
    "df.head()"
   ]
  },
  {
   "cell_type": "code",
   "execution_count": 4,
   "metadata": {},
   "outputs": [],
   "source": [
    "tokenizer = AutoTokenizer.from_pretrained(\"google/muril-base-cased\")"
   ]
  },
  {
   "cell_type": "code",
   "execution_count": 5,
   "metadata": {},
   "outputs": [],
   "source": [
    "class CustomDataset(torch.utils.data.Dataset):\n",
    "    def __init__(self, data, tokenizer, max_len):\n",
    "        super(CustomDataset, self).__init__()\n",
    "\n",
    "        self.data=data['text']\n",
    "        self.target = data['label']\n",
    "        self.tokenizer = tokenizer\n",
    "        self.max_len = max_len\n",
    "\n",
    "    def __len__(self):\n",
    "        return len(self.data)\n",
    "\n",
    "    def __getitem__(self, idx):\n",
    "        text = self.data[idx]\n",
    "        target = self.target[idx]\n",
    "\n",
    "        encoding = self.tokenizer.encode_plus(\n",
    "            text,\n",
    "            truncation=True,\n",
    "            max_length=self.max_len,\n",
    "            padding='max_length'\n",
    "        )\n",
    "\n",
    "        return {\n",
    "            \"ids\": torch.tensor(encoding[\"input_ids\"], dtype=torch.long),\n",
    "            \"mask\": torch.tensor(encoding[\"attention_mask\"], dtype=torch.long),\n",
    "            \"target\": torch.tensor(target, dtype=torch.long)\n",
    "        }\n",
    "\n",
    "train_ds = CustomDataset(df, tokenizer, 512)"
   ]
  },
  {
   "cell_type": "code",
   "execution_count": 6,
   "metadata": {},
   "outputs": [],
   "source": [
    "train_dl = DataLoader(train_ds, batch_size=32, shuffle=True)"
   ]
  },
  {
   "cell_type": "code",
   "execution_count": 7,
   "metadata": {},
   "outputs": [],
   "source": [
    "class Model(torch.nn.Module):\n",
    "    def __init__(self, out_dim):\n",
    "        super(Model, self).__init__()\n",
    "\n",
    "        self.bert = AutoModel.from_pretrained(\"google/muril-base-cased\")\n",
    "        self.bert.requires_grad=False\n",
    "        self.fc = torch.nn.Linear(768, out_dim)\n",
    "\n",
    "    def forward(self, ids, mask):\n",
    "        _, out = self.bert(ids, attention_mask=mask, return_dict=False)\n",
    "        out = self.fc(out)\n",
    "        return out\n",
    "\n",
    "model = Model(5)\n",
    "model = model.to(device)"
   ]
  },
  {
   "cell_type": "code",
   "execution_count": 8,
   "metadata": {},
   "outputs": [
    {
     "name": "stdout",
     "output_type": "stream",
     "text": [
      "237,560,069 total parameters.\n"
     ]
    }
   ],
   "source": [
    "total_params = sum(p.numel() for p in model.parameters())\n",
    "print(f\"{total_params:,} total parameters.\")"
   ]
  },
  {
   "cell_type": "code",
   "execution_count": null,
   "metadata": {},
   "outputs": [],
   "source": [
    "optimizer = AdamW(model.parameters(),lr = 2e-5)\n",
    "\n",
    "criterion = nn.CrossEntropyLoss()\n",
    "\n",
    "epochs = 3"
   ]
  },
  {
   "cell_type": "code",
   "execution_count": 10,
   "metadata": {},
   "outputs": [],
   "source": [
    "def get_accuracy(y_pred,y_actual):\n",
    "    y_pred = torch.argmax(y_pred, axis=1)\n",
    "    return (1/len(y_actual))*torch.sum(torch.round(y_pred)==y_actual)"
   ]
  },
  {
   "cell_type": "code",
   "execution_count": 11,
   "metadata": {},
   "outputs": [
    {
     "name": "stderr",
     "output_type": "stream",
     "text": [
      "[train]1/3: 100%|\u001b[32m##########\u001b[0m| 266/266 [04:12<00:00,  1.05it/s, avg_train_acc=0.7699, avg_train_loss=1.3154]\n",
      "[train]2/3: 100%|\u001b[32m##########\u001b[0m| 266/266 [04:11<00:00,  1.06it/s, avg_train_acc=0.9864, avg_train_loss=0.4759]\n",
      "[train]3/3: 100%|\u001b[32m##########\u001b[0m| 266/266 [04:11<00:00,  1.06it/s, avg_train_acc=0.9906, avg_train_loss=0.1346]\n"
     ]
    }
   ],
   "source": [
    "for epoch in range(epochs):\n",
    "    train_running_loss = 0\n",
    "    train_running_acc = 0\n",
    "    tqdm_train_iterator = tqdm(enumerate(train_dl),\n",
    "                                    desc=f\"[train]{epoch+1}/{epochs}\",\n",
    "                                    ascii=True,leave=True,\n",
    "                                    total=len(train_dl),\n",
    "                                    colour=\"green\",position=0)\n",
    "    for batch_idx,data in tqdm_train_iterator:\n",
    "        ids = data[\"ids\"]\n",
    "        mask = data[\"mask\"]\n",
    "        target = data[\"target\"]\n",
    "\n",
    "        ids = ids.to(device)\n",
    "        mask = mask.to(device)\n",
    "        target = target.to(device)\n",
    "\n",
    "        optimizer.zero_grad()\n",
    "        y_pred = model(ids, mask)\n",
    "        loss = criterion(y_pred, target)\n",
    "        loss.backward()\n",
    "        optimizer.step()\n",
    "\n",
    "        train_running_loss += loss.item()\n",
    "        train_running_acc += get_accuracy(y_pred.detach(),target)\n",
    "            \n",
    "        tqdm_train_iterator.set_postfix(avg_train_acc=f\"{train_running_acc/(batch_idx+1):0.4f}\",\n",
    "                                        avg_train_loss=f\"{(train_running_loss/(batch_idx+1)):0.4f}\")"
   ]
  },
  {
   "cell_type": "code",
   "execution_count": 12,
   "metadata": {},
   "outputs": [
    {
     "data": {
      "text/html": [
       "<div>\n",
       "<style scoped>\n",
       "    .dataframe tbody tr th:only-of-type {\n",
       "        vertical-align: middle;\n",
       "    }\n",
       "\n",
       "    .dataframe tbody tr th {\n",
       "        vertical-align: top;\n",
       "    }\n",
       "\n",
       "    .dataframe thead th {\n",
       "        text-align: right;\n",
       "    }\n",
       "</style>\n",
       "<table border=\"1\" class=\"dataframe\">\n",
       "  <thead>\n",
       "    <tr style=\"text-align: right;\">\n",
       "      <th></th>\n",
       "      <th>text</th>\n",
       "    </tr>\n",
       "  </thead>\n",
       "  <tbody>\n",
       "    <tr>\n",
       "      <th>0</th>\n",
       "      <td>bahya rup hal sei parisheba pradankari maanush...</td>\n",
       "    </tr>\n",
       "    <tr>\n",
       "      <th>1</th>\n",
       "      <td>maharashtrer aurangabad jela avasthit ajanta c...</td>\n",
       "    </tr>\n",
       "    <tr>\n",
       "      <th>2</th>\n",
       "      <td>gayer raner sang dehrekha mishe gie ghanatber ...</td>\n",
       "    </tr>\n",
       "    <tr>\n",
       "      <th>3</th>\n",
       "      <td>yekhane poorvavarti aitihya chhil kath o mati ...</td>\n",
       "    </tr>\n",
       "    <tr>\n",
       "      <th>4</th>\n",
       "      <td>alute masala makhie, fetano basena chubie nie ...</td>\n",
       "    </tr>\n",
       "  </tbody>\n",
       "</table>\n",
       "</div>"
      ],
      "text/plain": [
       "                                                text\n",
       "0  bahya rup hal sei parisheba pradankari maanush...\n",
       "1  maharashtrer aurangabad jela avasthit ajanta c...\n",
       "2  gayer raner sang dehrekha mishe gie ghanatber ...\n",
       "3  yekhane poorvavarti aitihya chhil kath o mati ...\n",
       "4  alute masala makhie, fetano basena chubie nie ..."
      ]
     },
     "execution_count": 12,
     "metadata": {},
     "output_type": "execute_result"
    }
   ],
   "source": [
    "final_df = pd.read_csv('classification.csv')\n",
    "final_df.head()"
   ]
  },
  {
   "cell_type": "code",
   "execution_count": 13,
   "metadata": {},
   "outputs": [],
   "source": [
    "def get_label(text):\n",
    "    encoding = tokenizer.encode_plus(\n",
    "            text,\n",
    "            truncation=True,\n",
    "            max_length=512,\n",
    "            padding='max_length'\n",
    "        )\n",
    "\n",
    "    ids = torch.tensor(encoding[\"input_ids\"], dtype=torch.long)\n",
    "    mask = torch.tensor(encoding[\"attention_mask\"], dtype=torch.long)\n",
    "    \n",
    "    ids = ids.reshape((1,-1))\n",
    "    mask = mask.reshape((1,-1))\n",
    "    ids = ids.to(device)\n",
    "    mask = mask.to(device)\n",
    "\n",
    "    y_pred = model(ids, mask)\n",
    "    y_pred = torch.argmax(y_pred, axis=1)\n",
    "    return y_pred.cpu().numpy()[0]"
   ]
  },
  {
   "cell_type": "code",
   "execution_count": 14,
   "metadata": {},
   "outputs": [
    {
     "data": {
      "text/html": [
       "<div>\n",
       "<style scoped>\n",
       "    .dataframe tbody tr th:only-of-type {\n",
       "        vertical-align: middle;\n",
       "    }\n",
       "\n",
       "    .dataframe tbody tr th {\n",
       "        vertical-align: top;\n",
       "    }\n",
       "\n",
       "    .dataframe thead th {\n",
       "        text-align: right;\n",
       "    }\n",
       "</style>\n",
       "<table border=\"1\" class=\"dataframe\">\n",
       "  <thead>\n",
       "    <tr style=\"text-align: right;\">\n",
       "      <th></th>\n",
       "      <th>text</th>\n",
       "      <th>label</th>\n",
       "    </tr>\n",
       "  </thead>\n",
       "  <tbody>\n",
       "    <tr>\n",
       "      <th>0</th>\n",
       "      <td>bahya rup hal sei parisheba pradankari maanush...</td>\n",
       "      <td>0</td>\n",
       "    </tr>\n",
       "    <tr>\n",
       "      <th>1</th>\n",
       "      <td>maharashtrer aurangabad jela avasthit ajanta c...</td>\n",
       "      <td>0</td>\n",
       "    </tr>\n",
       "    <tr>\n",
       "      <th>2</th>\n",
       "      <td>gayer raner sang dehrekha mishe gie ghanatber ...</td>\n",
       "      <td>0</td>\n",
       "    </tr>\n",
       "    <tr>\n",
       "      <th>3</th>\n",
       "      <td>yekhane poorvavarti aitihya chhil kath o mati ...</td>\n",
       "      <td>0</td>\n",
       "    </tr>\n",
       "    <tr>\n",
       "      <th>4</th>\n",
       "      <td>alute masala makhie, fetano basena chubie nie ...</td>\n",
       "      <td>0</td>\n",
       "    </tr>\n",
       "  </tbody>\n",
       "</table>\n",
       "</div>"
      ],
      "text/plain": [
       "                                                text  label\n",
       "0  bahya rup hal sei parisheba pradankari maanush...      0\n",
       "1  maharashtrer aurangabad jela avasthit ajanta c...      0\n",
       "2  gayer raner sang dehrekha mishe gie ghanatber ...      0\n",
       "3  yekhane poorvavarti aitihya chhil kath o mati ...      0\n",
       "4  alute masala makhie, fetano basena chubie nie ...      0"
      ]
     },
     "execution_count": 14,
     "metadata": {},
     "output_type": "execute_result"
    }
   ],
   "source": [
    "final_df['label'] = final_df['text'].apply(lambda x: get_label(x))\n",
    "final_df.head()"
   ]
  },
  {
   "cell_type": "code",
   "execution_count": 16,
   "metadata": {},
   "outputs": [],
   "source": [
    "final_df.to_csv(\"task1_output.csv\", index=False)"
   ]
  }
 ],
 "metadata": {
  "kernelspec": {
   "display_name": "testing",
   "language": "python",
   "name": "python3"
  },
  "language_info": {
   "codemirror_mode": {
    "name": "ipython",
    "version": 3
   },
   "file_extension": ".py",
   "mimetype": "text/x-python",
   "name": "python",
   "nbconvert_exporter": "python",
   "pygments_lexer": "ipython3",
   "version": "3.8.18"
  }
 },
 "nbformat": 4,
 "nbformat_minor": 2
}
